{
 "cells": [
  {
   "cell_type": "code",
   "execution_count": 1,
   "metadata": {},
   "outputs": [],
   "source": [
    "import numpy as np\n",
    "import pandas as pd\n",
    "import matplotlib.pyplot as plt\n",
    "import seaborn as sns"
   ]
  },
  {
   "cell_type": "code",
   "execution_count": 2,
   "metadata": {},
   "outputs": [
    {
     "data": {
      "text/html": [
       "<div>\n",
       "<style scoped>\n",
       "    .dataframe tbody tr th:only-of-type {\n",
       "        vertical-align: middle;\n",
       "    }\n",
       "\n",
       "    .dataframe tbody tr th {\n",
       "        vertical-align: top;\n",
       "    }\n",
       "\n",
       "    .dataframe thead th {\n",
       "        text-align: right;\n",
       "    }\n",
       "</style>\n",
       "<table border=\"1\" class=\"dataframe\">\n",
       "  <thead>\n",
       "    <tr style=\"text-align: right;\">\n",
       "      <th></th>\n",
       "      <th>Unnamed: 0</th>\n",
       "      <th>Temperature_C</th>\n",
       "      <th>Dew_Point_C</th>\n",
       "      <th>Humidity_%</th>\n",
       "      <th>Speed_kmh</th>\n",
       "      <th>Gust_kmh</th>\n",
       "      <th>Pressure_hPa</th>\n",
       "      <th>UV</th>\n",
       "      <th>Solar_w/m2</th>\n",
       "      <th>DateTime</th>\n",
       "    </tr>\n",
       "  </thead>\n",
       "  <tbody>\n",
       "    <tr>\n",
       "      <th>0</th>\n",
       "      <td>0</td>\n",
       "      <td>25.33</td>\n",
       "      <td>16.17</td>\n",
       "      <td>57.0</td>\n",
       "      <td>1.61</td>\n",
       "      <td>14.48</td>\n",
       "      <td>1013.21</td>\n",
       "      <td>7.0</td>\n",
       "      <td>25.886865</td>\n",
       "      <td>2017-03-09 12:00:00</td>\n",
       "    </tr>\n",
       "    <tr>\n",
       "      <th>1</th>\n",
       "      <td>1</td>\n",
       "      <td>25.33</td>\n",
       "      <td>16.17</td>\n",
       "      <td>57.0</td>\n",
       "      <td>1.61</td>\n",
       "      <td>14.48</td>\n",
       "      <td>1013.21</td>\n",
       "      <td>7.0</td>\n",
       "      <td>25.886865</td>\n",
       "      <td>2017-03-09 12:05:00</td>\n",
       "    </tr>\n",
       "    <tr>\n",
       "      <th>2</th>\n",
       "      <td>2</td>\n",
       "      <td>25.33</td>\n",
       "      <td>16.17</td>\n",
       "      <td>57.0</td>\n",
       "      <td>1.61</td>\n",
       "      <td>14.48</td>\n",
       "      <td>1013.21</td>\n",
       "      <td>7.0</td>\n",
       "      <td>25.886865</td>\n",
       "      <td>2017-03-09 12:10:00</td>\n",
       "    </tr>\n",
       "    <tr>\n",
       "      <th>3</th>\n",
       "      <td>3</td>\n",
       "      <td>25.33</td>\n",
       "      <td>16.17</td>\n",
       "      <td>57.0</td>\n",
       "      <td>1.61</td>\n",
       "      <td>14.48</td>\n",
       "      <td>1013.21</td>\n",
       "      <td>7.0</td>\n",
       "      <td>25.886865</td>\n",
       "      <td>2017-03-09 12:15:00</td>\n",
       "    </tr>\n",
       "    <tr>\n",
       "      <th>4</th>\n",
       "      <td>4</td>\n",
       "      <td>25.33</td>\n",
       "      <td>16.17</td>\n",
       "      <td>57.0</td>\n",
       "      <td>1.61</td>\n",
       "      <td>14.48</td>\n",
       "      <td>1013.21</td>\n",
       "      <td>7.0</td>\n",
       "      <td>25.886865</td>\n",
       "      <td>2017-03-09 12:20:00</td>\n",
       "    </tr>\n",
       "  </tbody>\n",
       "</table>\n",
       "</div>"
      ],
      "text/plain": [
       "   Unnamed: 0  Temperature_C  Dew_Point_C  Humidity_%  Speed_kmh  Gust_kmh  \\\n",
       "0           0          25.33        16.17        57.0       1.61     14.48   \n",
       "1           1          25.33        16.17        57.0       1.61     14.48   \n",
       "2           2          25.33        16.17        57.0       1.61     14.48   \n",
       "3           3          25.33        16.17        57.0       1.61     14.48   \n",
       "4           4          25.33        16.17        57.0       1.61     14.48   \n",
       "\n",
       "   Pressure_hPa   UV  Solar_w/m2             DateTime  \n",
       "0       1013.21  7.0   25.886865  2017-03-09 12:00:00  \n",
       "1       1013.21  7.0   25.886865  2017-03-09 12:05:00  \n",
       "2       1013.21  7.0   25.886865  2017-03-09 12:10:00  \n",
       "3       1013.21  7.0   25.886865  2017-03-09 12:15:00  \n",
       "4       1013.21  7.0   25.886865  2017-03-09 12:20:00  "
      ]
     },
     "execution_count": 2,
     "metadata": {},
     "output_type": "execute_result"
    }
   ],
   "source": [
    "df = pd.read_csv('data/structured_data.csv')\n",
    "df.dropna(inplace=True)\n",
    "df.head()"
   ]
  },
  {
   "cell_type": "code",
   "execution_count": 4,
   "metadata": {},
   "outputs": [
    {
     "data": {
      "text/plain": [
       "count    142488.000000\n",
       "mean          5.810316\n",
       "std           9.337011\n",
       "min           0.000000\n",
       "25%           0.000000\n",
       "50%           0.333047\n",
       "75%           8.083968\n",
       "max          39.239037\n",
       "Name: Solar_w/m2, dtype: float64"
      ]
     },
     "execution_count": 4,
     "metadata": {},
     "output_type": "execute_result"
    }
   ],
   "source": [
    "df['Solar_w/m2'].describe()"
   ]
  },
  {
   "cell_type": "code",
   "execution_count": 19,
   "metadata": {},
   "outputs": [
    {
     "data": {
      "text/plain": [
       "0    25.886865\n",
       "1    25.886865\n",
       "2    25.886865\n",
       "3    25.886865\n",
       "4    25.886865\n",
       "Name: Solar_w/m2, dtype: float64"
      ]
     },
     "execution_count": 19,
     "metadata": {},
     "output_type": "execute_result"
    }
   ],
   "source": [
    "X = df[['Temperature_C', 'Gust_kmh', 'UV']]\n",
    "y = df.iloc[:, -2]\n",
    "y.head()"
   ]
  },
  {
   "cell_type": "code",
   "execution_count": 20,
   "metadata": {},
   "outputs": [],
   "source": [
    "from sklearn.model_selection import train_test_split\n",
    "\n",
    "X_train, X_test, y_train, y_test = train_test_split(X, y, random_state=42, test_size=0.2)"
   ]
  },
  {
   "cell_type": "code",
   "execution_count": 21,
   "metadata": {},
   "outputs": [],
   "source": [
    "# save the data\n",
    "\n",
    "X_train.to_csv('data/X_train_structured.csv', index=False)\n",
    "X_test.to_csv('data/X_test_structured.csv', index=False)\n",
    "y_train.to_csv('data/y_train_structured.csv', index=False)\n",
    "y_test.to_csv('data/y_test_structured.csv', index=False)\n"
   ]
  },
  {
   "cell_type": "code",
   "execution_count": null,
   "metadata": {},
   "outputs": [],
   "source": []
  }
 ],
 "metadata": {
  "kernelspec": {
   "display_name": "3.9_tf",
   "language": "python",
   "name": "python3"
  },
  "language_info": {
   "codemirror_mode": {
    "name": "ipython",
    "version": 3
   },
   "file_extension": ".py",
   "mimetype": "text/x-python",
   "name": "python",
   "nbconvert_exporter": "python",
   "pygments_lexer": "ipython3",
   "version": "3.9.17"
  }
 },
 "nbformat": 4,
 "nbformat_minor": 2
}
